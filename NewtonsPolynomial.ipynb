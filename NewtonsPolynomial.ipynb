{
 "cells": [
  {
   "cell_type": "code",
   "execution_count": 19,
   "id": "1cf9cad3",
   "metadata": {},
   "outputs": [],
   "source": [
    "# def lagrangePolynomial(x_Arr, y_Arr, xx):\n",
    "#    # print(x_Arr, y_Arr)\n",
    "#     l = 0.0\n",
    "#     counter_i = 0\n",
    "#     for i in range(len(x_Arr)):\n",
    "#         q = 1.0\n",
    "#         counter_j = 0\n",
    "#         for j in range(len(x_Arr)):  \n",
    "#             #if j != i: \n",
    "#             q=q*(xx - x_Arr[counter_j]) / (x_Arr[counter_i] - x_Arr[counter_j])\n",
    "#             counter_j = counter_j + 1\n",
    "#         #print(str(q) +'   ' + str(l))\n",
    "#         l = l + y_Arr[counter_i] * q\n",
    "#         counter_i = counter_i + 1\n",
    "#     return l;"
   ]
  },
  {
   "cell_type": "code",
   "execution_count": 20,
   "id": "4c6526a2",
   "metadata": {},
   "outputs": [],
   "source": [
    "\n",
    "# def ff(X=list()):\n",
    "#     if len(X) < 2:\n",
    "#         raise ValueError('X\\'s length must be bigger than 2')\n",
    "#     ans = 0\n",
    "#     for i in range(len(X)):\n",
    "#         temp = 1.0\n",
    "#         for j in range(len(X)):\n",
    "#             if j == i:\n",
    "#                 continue\n",
    "#             temp *= (X[i] - X[j])\n",
    "#         ans += (f(X[i]) / temp)\n",
    "#     return ans\n",
    "\n",
    "# def generatePx(DataX):\n",
    "#     ans = f(DataX[0])\n",
    "#     if len(DataX) == 1:\n",
    "#         return ans\n",
    "#     else:\n",
    "#         temp = 1\n",
    "#         for i in range(len(DataX) - 1):\n",
    "#             temp *= (x - DataX[i])\n",
    "#             ans += ff(DataX[:i + 2]) * temp\n",
    "#         return ans"
   ]
  },
  {
   "cell_type": "code",
   "execution_count": 21,
   "id": "74c35a57",
   "metadata": {},
   "outputs": [],
   "source": [
    "# def newtons_polynomial(x_arr, y_values, x0):\n",
    "#     P_x = y_values[0]\n",
    "#     y_arr = y_values\n",
    "#     D_x = 1.0\n",
    "#     k = 1.0\n",
    "#     dy = []\n",
    "#     for j in range(len(x_arr)):\n",
    "#         for i in range(len(x_arr) - j):\n",
    "#             if x_arr[i+j] == x_arr[i]:\n",
    "#                 continue\n",
    "#             dy.append((y_arr[i+1] - y_arr[i]) / (x_arr[i+j] - x_arr[i]))\n",
    "#         k *= x0 - x_arr[j-1]\n",
    "#         D_x = D_x * k\n",
    "#         P_x = P_x + y_arr[0] * D_x\n",
    "#     return P_x"
   ]
  },
  {
   "cell_type": "code",
   "execution_count": 68,
   "id": "430a0b3e-b7e3-4f50-ba30-6aee6f3cce22",
   "metadata": {},
   "outputs": [],
   "source": [
    "import math\n",
    "def my_range(start, end, step):\n",
    "    while start <= end:\n",
    "        yield start\n",
    "        start += step"
   ]
  },
  {
   "cell_type": "code",
   "execution_count": 69,
   "id": "3b8c14b5-d668-47c8-9f87-d6825e6b78cc",
   "metadata": {},
   "outputs": [],
   "source": [
    "def newtons_poly(x_n, y_n, x):\n",
    "    p_x = y_n[0]\n",
    "    for i in range(1, len(x_n)):\n",
    "        f = 0.0\n",
    "        for j in range(i+1):\n",
    "            d_x = 1\n",
    "            for k in range(i+1):\n",
    "                if k != j:\n",
    "                    d_x *= (x_n[j] - x_n[k])\n",
    "            f += y_n[j] / d_x\n",
    "                \n",
    "        for k in range(i):\n",
    "            f*= (x - x_n[k])\n",
    "        p_x += f    \n",
    "    return p_x\n",
    "    \n",
    "    # p_x = y_n[0]\n",
    "    # x_derr = 0\n",
    "    # h = x_n[1] - x_n[0]\n",
    "    # for i in range(len(x_n)):\n",
    "    #     x_derr = x - x_n[i]\n",
    "    #     for j in range(len(x_n)):\n",
    "    #         dy += y_n[i] - y_n[j+1]\n",
    "    #     p_x += x_derr* \n",
    "    "
   ]
  },
  {
   "cell_type": "code",
   "execution_count": 70,
   "id": "17ea2b07",
   "metadata": {},
   "outputs": [],
   "source": [
    "# def func_17th_var(start, end, step):\n",
    "#     x_n = [dx for dx in my_range(start, end, step)]\n",
    "#     y_array = []\n",
    "#     for x in my_range(start, end, step):\n",
    "#         y_array.append(math.sin(x)*math.cos(x**2))\n",
    "#     return y_array\n",
    "\n",
    "def func_17th_var(start, end, step):\n",
    "    x_n = [dx for dx in my_range(start, end, step)]\n",
    "    y_array = []\n",
    "    for x in my_range(start, end, step):\n",
    "        y_array.append(math.sin(x)* math.cos(x**2))\n",
    "        # print(round(x, 3), math.sin(x)* math.cos(x**2))\n",
    "    return y_array"
   ]
  },
  {
   "cell_type": "code",
   "execution_count": 71,
   "id": "b36952d3",
   "metadata": {},
   "outputs": [
    {
     "name": "stdout",
     "output_type": "stream",
     "text": [
      "x:    y:                   Newtons approximation:   Error:           \n",
      "0 __ 0.0 __ 0.0 __ 0.0\n",
      "0.05 __ 0.04997901308585571 __ 0.04997901308585571 __ 0.0\n",
      "0.1 __ 0.09982842501759293 __ 0.09982842501759291 __ 1.3877787807814457e-17\n",
      "0.15 __ 0.14940030754209657 __ 0.14940030754209652 __ 5.551115123125783e-17\n",
      "0.2 __ 0.19851041652069026 __ 0.19851041652069026 __ 0.0\n",
      "0.25 __ 0.24692090567132538 __ 0.2469209056713257 __ 3.3306690738754696e-16\n",
      "0.3 __ 0.2943241574846305 __ 0.29432415748463125 __ 7.771561172376096e-16\n",
      "0.35 __ 0.340328218081367 __ 0.3403282180813678 __ 8.326672684688674e-16\n",
      "0.4 __ 0.384444412174009 __ 0.38444441217401265 __ 3.6637359812630166e-15\n",
      "0.45 __ 0.426077814769615 __ 0.4260778147696382 __ 2.3203661214665772e-14\n",
      "0.5 __ 0.46452135963892854 __ 0.4645213596390116 __ 8.304468224196171e-14\n",
      "0.55 __ 0.4989544605613706 __ 0.4989544605615679 __ 1.9728663147589032e-13\n",
      "0.6 __ 0.5284470973640664 __ 0.5284470973644134 __ 3.4705571749782393e-13\n",
      "0.65 __ 0.5519703600003277 __ 0.5519703600008474 __ 5.196953978270358e-13\n",
      "0.7 __ 0.5684144335476332 __ 0.5684144335489653 __ 1.3320455849452628e-12\n",
      "0.75 __ 0.576614926729225 __ 0.5766149267372851 __ 8.060108136476174e-12\n",
      "0.8 __ 0.5753882774029662 __ 0.5753882774537921 __ 5.0825899045037204e-11\n",
      "0.85 __ 0.5635766920551354 __ 0.563576692324122 __ 2.6898661076302233e-10\n",
      "0.9 __ 0.5401026766770844 __ 0.5401026778981697 __ 1.2210852329275212e-09\n",
      "0.95 __ 0.5040326820641279 __ 0.504032686981028 __ 4.9169001092863596e-09\n",
      "Max error: 4.9169001092863596e-09\n"
     ]
    }
   ],
   "source": [
    "st = 0\n",
    "en = 1\n",
    "dx = 0.05\n",
    "original_x = [dx for dx in my_range(st, en, dx)]\n",
    "# print(original_x)\n",
    "original_y = func_17th_var(st, en, dx)\n",
    "# print(original_y)\n",
    "# print(original_y[6], newtons_poly(original_x, original_y, original_x[6]))\n",
    "i = 0\n",
    "error = []\n",
    "print('x:   ', 'y:                  ', 'Newtons approximation:  ', 'Error:           ')\n",
    "for x_ in my_range(st, en, dx):\n",
    "    newtons = newtons_poly(original_x, original_y, original_x[i])\n",
    "    error.append(abs(original_y[i] - newtons))\n",
    "    print(round(original_x[i], 2), '__',original_y[i], '__',newtons, '__', error[i])\n",
    "    i+= 1\n",
    "\n",
    "print('Max error:', max(error))"
   ]
  },
  {
   "cell_type": "code",
   "execution_count": null,
   "id": "3f6b5d85-0e53-4060-bd77-035af16fae13",
   "metadata": {},
   "outputs": [],
   "source": []
  },
  {
   "cell_type": "code",
   "execution_count": null,
   "id": "c0440843-7f86-4d48-9a1f-511c91e14641",
   "metadata": {},
   "outputs": [],
   "source": []
  }
 ],
 "metadata": {
  "kernelspec": {
   "display_name": "Python 3 (ipykernel)",
   "language": "python",
   "name": "python3"
  },
  "language_info": {
   "codemirror_mode": {
    "name": "ipython",
    "version": 3
   },
   "file_extension": ".py",
   "mimetype": "text/x-python",
   "name": "python",
   "nbconvert_exporter": "python",
   "pygments_lexer": "ipython3",
   "version": "3.11.5"
  }
 },
 "nbformat": 4,
 "nbformat_minor": 5
}
